{
 "cells": [
  {
   "cell_type": "code",
   "execution_count": 10,
   "id": "c81eded4-9352-4ea9-86bb-0439228e0ad5",
   "metadata": {},
   "outputs": [],
   "source": [
    "import pandas as pd\n",
    "import numpy as np\n",
    "from tensorflow.keras.applications import ResNet50\n",
    "from tensorflow.keras.models import Model\n",
    "from tensorflow.keras.utils import Sequence\n",
    "from sklearn.model_selection import train_test_split\n",
    "from tensorflow.keras.utils import to_categorical\n",
    "import tensorflow as tf\n",
    "from tensorflow.keras.preprocessing.image import ImageDataGenerator\n",
    "from tensorflow.keras.layers import Dense, Flatten, GlobalAveragePooling2D"
   ]
  },
  {
   "cell_type": "code",
   "execution_count": 11,
   "id": "953d70b0-3b22-4b11-a738-d796d9277ff6",
   "metadata": {},
   "outputs": [
    {
     "name": "stdout",
     "output_type": "stream",
     "text": [
      "        Image Index          Finding Labels  Follow-up #  Patient ID  \\\n",
      "0  00000001_000.png            Cardiomegaly            0           1   \n",
      "1  00000001_001.png  Cardiomegaly|Emphysema            1           1   \n",
      "2  00000001_002.png   Cardiomegaly|Effusion            2           1   \n",
      "3  00000002_000.png              No Finding            0           2   \n",
      "4  00000003_001.png                  Hernia            0           3   \n",
      "\n",
      "   Patient Age Patient Gender View Position  OriginalImage[Width  Height]  \\\n",
      "0           57              M            PA                 2682     2749   \n",
      "1           58              M            PA                 2894     2729   \n",
      "2           58              M            PA                 2500     2048   \n",
      "3           80              M            PA                 2500     2048   \n",
      "4           74              F            PA                 2500     2048   \n",
      "\n",
      "   OriginalImagePixelSpacing[x     y]  \n",
      "0                        0.143  0.143  \n",
      "1                        0.143  0.143  \n",
      "2                        0.168  0.168  \n",
      "3                        0.171  0.171  \n",
      "4                        0.168  0.168  \n",
      "Target\n",
      "2    5709\n",
      "1     862\n",
      "0     135\n",
      "Name: count, dtype: int64\n"
     ]
    }
   ],
   "source": [
    "# Load the metadata\n",
    "metadata_path = \"Data_Entry_2017_v2020.csv\"\n",
    "metadata = pd.read_csv(metadata_path).iloc[:10000]\n",
    "\n",
    "# Check the first few rows\n",
    "print(metadata.head())\n",
    "\n",
    "# Define the diseases to classify\n",
    "# diseases_to_classify = [\"Pneumonia\", \"Atelectasis\", \"No_Finding\", \"Infiltration\", \"Effusion\"]\n",
    "diseases_to_classify = [\"Pneumonia\", \"Atelectasis\", \"No Finding\"]\n",
    "\n",
    "\n",
    "# Create a Target column with only 3 classes\n",
    "def map_disease(label):\n",
    "    for i, disease in enumerate(diseases_to_classify):\n",
    "        if disease in label:\n",
    "            return i  # Assign index based on diseases_to_classify\n",
    "    return -1  # Exclude other labels\n",
    "\n",
    "metadata['Target'] = metadata['Finding Labels'].apply(map_disease)\n",
    "\n",
    "# # Filter out rows with excluded labels\n",
    "metadata = metadata[metadata['Target'] != -1]\n",
    "\n",
    "\n",
    "# Check class distribution\n",
    "print(metadata['Target'].value_counts())\n",
    "\n"
   ]
  },
  {
   "cell_type": "code",
   "execution_count": 12,
   "id": "5bc431f0-266b-4959-b991-71499b65496b",
   "metadata": {},
   "outputs": [
    {
     "name": "stdout",
     "output_type": "stream",
     "text": [
      "Finding Labels\n",
      "No Finding                                                     5709\n",
      "Atelectasis                                                     367\n",
      "Atelectasis|Infiltration                                        113\n",
      "Atelectasis|Effusion                                             74\n",
      "Atelectasis|Effusion|Infiltration                                41\n",
      "                                                               ... \n",
      "Cardiomegaly|Pneumonia                                            1\n",
      "Atelectasis|Edema|Effusion|Infiltration|Pneumonia                 1\n",
      "Atelectasis|Edema|Effusion                                        1\n",
      "Atelectasis|Consolidation|Edema|Effusion|Pleural_Thickening       1\n",
      "Atelectasis|Nodule|Pneumonia                                      1\n",
      "Name: count, Length: 117, dtype: int64\n",
      "5709\n",
      "Number of 'No Finding' cases: 5709\n"
     ]
    }
   ],
   "source": [
    "print(metadata['Finding Labels'].value_counts()) \n",
    "print(metadata[metadata['Finding Labels'] == 'No Finding'].shape[0])  \n",
    "no_finding_count = metadata[metadata['Finding Labels'] == 'No Finding'].shape[0]\n",
    "print(f\"Number of 'No Finding' cases: {no_finding_count}\")\n"
   ]
  },
  {
   "cell_type": "code",
   "execution_count": 13,
   "id": "4a10e224-7fe1-47a9-8b1e-7724cdd239e8",
   "metadata": {},
   "outputs": [
    {
     "name": "stdout",
     "output_type": "stream",
     "text": [
      "Train: 5364, Validation: 671, Test: 671\n",
      "Train DataFrame size: (5364, 12)\n",
      "Validation DataFrame size: (671, 12)\n",
      "           Image Index        Finding Labels  Follow-up #  Patient ID  \\\n",
      "9464  00002457_005.png            No Finding            5        2457   \n",
      "7271  00001921_006.png            No Finding            6        1921   \n",
      "7130  00001891_000.png  Atelectasis|Fibrosis            0        1891   \n",
      "9547  00002480_004.png            No Finding            4        2480   \n",
      "4438  00001203_014.png            No Finding            9        1203   \n",
      "\n",
      "      Patient Age Patient Gender View Position  OriginalImage[Width  Height]  \\\n",
      "9464           14              M            AP                 2048     2500   \n",
      "7271           40              M            AP                 2500     2048   \n",
      "7130           68              F            PA                 2048     2500   \n",
      "9547           55              M            PA                 2500     2048   \n",
      "4438           52              M            PA                 2566     2607   \n",
      "\n",
      "      OriginalImagePixelSpacing[x     y]  Target  \n",
      "9464                        0.168  0.168       2  \n",
      "7271                        0.171  0.171       2  \n",
      "7130                        0.168  0.168       1  \n",
      "9547                        0.168  0.168       2  \n",
      "4438                        0.143  0.143       2  \n"
     ]
    }
   ],
   "source": [
    "# Split into train, validation, and test sets\n",
    "train_df, temp_df = train_test_split(metadata, test_size=0.2, stratify=metadata['Target'], random_state=42)\n",
    "val_df, test_df = train_test_split(temp_df, test_size=0.5, stratify=temp_df['Target'], random_state=42)\n",
    "\n",
    "# print(f\"Train: {len(train_df)}, Validation: {len(val_df)}, Test: {len(test_df)}\")\n",
    "# print(f\"Train DataFrame size: {train_df.shape}\")\n",
    "# print(f\"Validation DataFrame size: {val_df.shape}\")\n",
    "# print(train_df.head())\n",
    "\n",
    "# Custom Data Generator Class\n",
    "class MyCustomDataset(Sequence):\n",
    "    def __init__(self, dataframe, directory, batch_size, target_size, classes, **kwargs):\n",
    "        super().__init__(**kwargs)  # Call the parent class constructor\n",
    "        self.dataframe = dataframe\n",
    "        self.directory = directory\n",
    "        self.batch_size = batch_size\n",
    "        self.target_size = target_size\n",
    "        self.classes = classes\n",
    "        self.dataframe['Target'] = self.dataframe['Target'].astype(int)\n",
    "\n",
    "    def __len__(self):\n",
    "        # Number of batches per epoch\n",
    "        return int(np.ceil(len(self.dataframe) / self.batch_size))\n",
    "\n",
    "    def __getitem__(self, idx):\n",
    "        # Get batch indices\n",
    "        batch_df = self.dataframe.iloc[idx * self.batch_size:(idx + 1) * self.batch_size]\n",
    "        images = []\n",
    "        targets = []\n",
    "\n",
    "        for _, row in batch_df.iterrows():\n",
    "            image_path = f\"{self.directory}/{row['Image Index']}\"\n",
    "            img = tf.keras.utils.load_img(image_path, target_size=self.target_size)\n",
    "            img_array = tf.keras.utils.img_to_array(img) / 255.0  # Normalize\n",
    "            images.append(img_array)\n",
    "            targets.append(tf.keras.utils.to_categorical(row['Target'], num_classes=len(self.classes)))\n",
    "\n",
    "        return np.array(images), np.array(targets)\n",
    "\n",
    "\n",
    "\n",
    "# Convert Target column to categorical\n",
    "metadata['Target'] = metadata['Target'].astype(int)\n",
    "train_df, temp_df = train_test_split(metadata, test_size=0.2, stratify=metadata['Target'], random_state=42)\n",
    "val_df, test_df = train_test_split(temp_df, test_size=0.5, stratify=temp_df['Target'], random_state=42)\n",
    "\n",
    "train_df['Target'] = train_df['Target'].astype(str)  # Generators require strings\n",
    "val_df['Target'] = val_df['Target'].astype(str)\n",
    "test_df['Target'] = test_df['Target'].astype(str)\n",
    "\n",
    "# Define directories\n",
    "# Create train and validation generators\n",
    "image_dir = \"Images/Images\"\n",
    "batch_size = 32\n",
    "target_size = (224, 224)\n",
    "\n",
    "# Image augmentation and preprocessing\n",
    "datagen = ImageDataGenerator(\n",
    "    rescale=1.0/255.0,\n",
    "    validation_split=0.2\n",
    ")\n",
    "\n",
    "train_generator = MyCustomDataset(\n",
    "    dataframe=train_df,\n",
    "    directory=image_dir,\n",
    "    batch_size=batch_size,\n",
    "    target_size=target_size,\n",
    "    classes=diseases_to_classify\n",
    ")\n",
    "\n",
    "val_generator = MyCustomDataset(\n",
    "    dataframe=val_df,\n",
    "    directory=image_dir,\n",
    "    batch_size=batch_size,\n",
    "    target_size=target_size,\n",
    "    classes=diseases_to_classify\n",
    ")"
   ]
  },
  {
   "cell_type": "code",
   "execution_count": 14,
   "id": "4465b375-7626-40a1-bddc-1c2ad079d21a",
   "metadata": {},
   "outputs": [
    {
     "name": "stdout",
     "output_type": "stream",
     "text": [
      "Target\n",
      "2    571\n",
      "1     86\n",
      "0     14\n",
      "Name: count, dtype: int64\n"
     ]
    }
   ],
   "source": [
    "print(test_df['Target'].value_counts())\n"
   ]
  },
  {
   "cell_type": "code",
   "execution_count": 15,
   "id": "778da7cd-9960-4dde-b780-b35e9fc7e71f",
   "metadata": {},
   "outputs": [
    {
     "name": "stdout",
     "output_type": "stream",
     "text": [
      "Target\n",
      "2    5709\n",
      "1     862\n",
      "0     135\n",
      "Name: count, dtype: int64\n",
      "Rare classes: Series([], Name: count, dtype: int64)\n"
     ]
    }
   ],
   "source": [
    "# Check class distribution\n",
    "# print(metadata['Target'].value_counts())\n",
    "\n",
    "# Optional: Remove very rare classes or oversample rare classes\n",
    "rare_classes = metadata['Target'].value_counts()[metadata['Target'].value_counts() < 5]\n",
    "# print(f\"Rare classes: {rare_classes}\")\n",
    "metadata = metadata[~metadata['Target'].isin(rare_classes.index)]\n"
   ]
  },
  {
   "cell_type": "code",
   "execution_count": 16,
   "id": "35af9222-be65-4378-9176-a86f4e8de1cc",
   "metadata": {},
   "outputs": [],
   "source": [
    "# Model definition\n",
    "# Load EfficientNetB0\n",
    "base_model = ResNet50(weights='imagenet', include_top=False, input_shape=(224, 224, 3))\n",
    "\n",
    "# Add classification layers\n",
    "x = base_model.output\n",
    "x = tf.keras.layers.GlobalAveragePooling2D()(x)\n",
    "x = tf.keras.layers.Dense(128, activation='relu')(x)\n",
    "predictions = tf.keras.layers.Dense(len(diseases_to_classify), activation='softmax')(x)\n",
    "\n",
    "# Create and compile the model\n",
    "model = tf.keras.Model(inputs=base_model.input, outputs=predictions)\n",
    "model.compile(optimizer='adam', loss='categorical_crossentropy', metrics=['accuracy'])\n",
    "\n"
   ]
  },
  {
   "cell_type": "code",
   "execution_count": 17,
   "id": "be968165-a6b0-48e6-9c83-2fc7bb088adc",
   "metadata": {},
   "outputs": [
    {
     "name": "stdout",
     "output_type": "stream",
     "text": [
      "Epoch 1/10\n",
      "\u001b[1m168/168\u001b[0m \u001b[32m━━━━━━━━━━━━━━━━━━━━\u001b[0m\u001b[37m\u001b[0m \u001b[1m2807s\u001b[0m 16s/step - accuracy: 0.8321 - loss: 0.6782 - val_accuracy: 0.8510 - val_loss: 0.8066\n",
      "Epoch 2/10\n",
      "\u001b[1m168/168\u001b[0m \u001b[32m━━━━━━━━━━━━━━━━━━━━\u001b[0m\u001b[37m\u001b[0m \u001b[1m2678s\u001b[0m 16s/step - accuracy: 0.8496 - loss: 0.4619 - val_accuracy: 0.8510 - val_loss: 0.5527\n",
      "Epoch 3/10\n",
      "\u001b[1m168/168\u001b[0m \u001b[32m━━━━━━━━━━━━━━━━━━━━\u001b[0m\u001b[37m\u001b[0m \u001b[1m2739s\u001b[0m 16s/step - accuracy: 0.8497 - loss: 0.4297 - val_accuracy: 0.8510 - val_loss: 0.7407\n",
      "Epoch 4/10\n",
      "\u001b[1m168/168\u001b[0m \u001b[32m━━━━━━━━━━━━━━━━━━━━\u001b[0m\u001b[37m\u001b[0m \u001b[1m2720s\u001b[0m 16s/step - accuracy: 0.8453 - loss: 0.4409 - val_accuracy: 0.8510 - val_loss: 0.6410\n",
      "Epoch 5/10\n",
      "\u001b[1m168/168\u001b[0m \u001b[32m━━━━━━━━━━━━━━━━━━━━\u001b[0m\u001b[37m\u001b[0m \u001b[1m2731s\u001b[0m 16s/step - accuracy: 0.8490 - loss: 0.4182 - val_accuracy: 0.8510 - val_loss: 1.2238\n",
      "Epoch 6/10\n",
      "\u001b[1m168/168\u001b[0m \u001b[32m━━━━━━━━━━━━━━━━━━━━\u001b[0m\u001b[37m\u001b[0m \u001b[1m2726s\u001b[0m 16s/step - accuracy: 0.8548 - loss: 0.4085 - val_accuracy: 0.8510 - val_loss: 0.4459\n",
      "Epoch 7/10\n",
      "\u001b[1m168/168\u001b[0m \u001b[32m━━━━━━━━━━━━━━━━━━━━\u001b[0m\u001b[37m\u001b[0m \u001b[1m2050s\u001b[0m 12s/step - accuracy: 0.8481 - loss: 0.3980 - val_accuracy: 0.8510 - val_loss: 0.4759\n",
      "Epoch 8/10\n",
      "\u001b[1m168/168\u001b[0m \u001b[32m━━━━━━━━━━━━━━━━━━━━\u001b[0m\u001b[37m\u001b[0m \u001b[1m1481s\u001b[0m 9s/step - accuracy: 0.8486 - loss: 0.3822 - val_accuracy: 0.8510 - val_loss: 0.5762\n",
      "Epoch 9/10\n",
      "\u001b[1m168/168\u001b[0m \u001b[32m━━━━━━━━━━━━━━━━━━━━\u001b[0m\u001b[37m\u001b[0m \u001b[1m1481s\u001b[0m 9s/step - accuracy: 0.8470 - loss: 0.3638 - val_accuracy: 0.8510 - val_loss: 2.4389\n",
      "Epoch 10/10\n",
      "\u001b[1m168/168\u001b[0m \u001b[32m━━━━━━━━━━━━━━━━━━━━\u001b[0m\u001b[37m\u001b[0m \u001b[1m1485s\u001b[0m 9s/step - accuracy: 0.8693 - loss: 0.3216 - val_accuracy: 0.8450 - val_loss: 0.4994\n"
     ]
    }
   ],
   "source": [
    "# Train the model\n",
    "history = model.fit(\n",
    "    train_generator,\n",
    "    validation_data=val_generator,\n",
    "    epochs=10,\n",
    "    steps_per_epoch=len(train_generator),\n",
    "    validation_steps=len(val_generator)\n",
    ")"
   ]
  },
  {
   "cell_type": "code",
   "execution_count": 8,
   "id": "c2b177f1-0350-48bb-aa95-6d4fbb8c1d96",
   "metadata": {},
   "outputs": [
    {
     "name": "stderr",
     "output_type": "stream",
     "text": [
      "WARNING:absl:You are saving your model as an HDF5 file via `model.save()` or `keras.saving.save_model(model)`. This file format is considered legacy. We recommend using instead the native Keras format, e.g. `model.save('my_model.keras')` or `keras.saving.save_model(model, 'my_model.keras')`. \n"
     ]
    }
   ],
   "source": [
    "model.save('ResNet50.h5')"
   ]
  },
  {
   "cell_type": "code",
   "execution_count": 18,
   "id": "4fb0f7c9-2d04-487d-88ac-c1746d28d0d5",
   "metadata": {},
   "outputs": [],
   "source": [
    "test_generator = MyCustomDataset(\n",
    "    dataframe=test_df,\n",
    "    directory=image_dir,\n",
    "    batch_size=32,\n",
    "    target_size=(224, 224),\n",
    "    classes=diseases_to_classify\n",
    ")\n"
   ]
  },
  {
   "cell_type": "code",
   "execution_count": 19,
   "id": "1f8b152e-4ba3-44ed-a004-6a1e8e57d37a",
   "metadata": {},
   "outputs": [
    {
     "ename": "NameError",
     "evalue": "name 'y_true' is not defined",
     "output_type": "error",
     "traceback": [
      "\u001b[0;31m---------------------------------------------------------------------------\u001b[0m",
      "\u001b[0;31mNameError\u001b[0m                                 Traceback (most recent call last)",
      "Cell \u001b[0;32mIn[19], line 1\u001b[0m\n\u001b[0;32m----> 1\u001b[0m \u001b[38;5;28mprint\u001b[39m(\u001b[38;5;124m\"\u001b[39m\u001b[38;5;124mUnique values in y_true:\u001b[39m\u001b[38;5;124m\"\u001b[39m, np\u001b[38;5;241m.\u001b[39munique(\u001b[43my_true\u001b[49m))\n\u001b[1;32m      2\u001b[0m \u001b[38;5;28mprint\u001b[39m(\u001b[38;5;124m\"\u001b[39m\u001b[38;5;124mUnique values in y_pred_classes:\u001b[39m\u001b[38;5;124m\"\u001b[39m, np\u001b[38;5;241m.\u001b[39munique(y_pred_classes))\n\u001b[1;32m      3\u001b[0m \u001b[38;5;28mprint\u001b[39m(\u001b[38;5;124m\"\u001b[39m\u001b[38;5;124mDiseases to classify:\u001b[39m\u001b[38;5;124m\"\u001b[39m, diseases_to_classify)\n",
      "\u001b[0;31mNameError\u001b[0m: name 'y_true' is not defined"
     ]
    }
   ],
   "source": [
    "print(\"Unique values in y_true:\", np.unique(y_true))\n",
    "print(\"Unique values in y_pred_classes:\", np.unique(y_pred_classes))\n",
    "print(\"Diseases to classify:\", diseases_to_classify)\n"
   ]
  },
  {
   "cell_type": "code",
   "execution_count": 20,
   "id": "9e7f0758-8964-4709-99a3-3e7cc6136947",
   "metadata": {},
   "outputs": [
    {
     "name": "stdout",
     "output_type": "stream",
     "text": [
      "\u001b[1m21/21\u001b[0m \u001b[32m━━━━━━━━━━━━━━━━━━━━\u001b[0m\u001b[37m\u001b[0m \u001b[1m36s\u001b[0m 2s/step - accuracy: 0.8342 - loss: 0.5226\n",
      "Test Loss: 0.5198\n",
      "Test Accuracy: 0.8405\n"
     ]
    }
   ],
   "source": [
    "# Evaluate the model on the test set\n",
    "test_loss, test_accuracy = model.evaluate(test_generator)\n",
    "print(f\"Test Loss: {test_loss:.4f}\")\n",
    "print(f\"Test Accuracy: {test_accuracy:.4f}\")"
   ]
  },
  {
   "cell_type": "code",
   "execution_count": 21,
   "id": "e427379a-7284-4b97-b9ec-a8a7ec2c2871",
   "metadata": {},
   "outputs": [
    {
     "name": "stdout",
     "output_type": "stream",
     "text": [
      "\u001b[1m21/21\u001b[0m \u001b[32m━━━━━━━━━━━━━━━━━━━━\u001b[0m\u001b[37m\u001b[0m \u001b[1m40s\u001b[0m 2s/step\n"
     ]
    }
   ],
   "source": [
    "y_pred_probs = model.predict(test_generator)  # Predicted probabilities\n",
    "y_pred_classes = np.argmax(y_pred_probs, axis=1)  # Predicted class indices\n",
    "\n",
    "# True labels\n",
    "y_true = test_df['Target'].astype(int).values  # Extract true labels from test_df\n"
   ]
  },
  {
   "cell_type": "code",
   "execution_count": 22,
   "id": "1c9e87dd-6087-4a0f-ad6d-f972784c1708",
   "metadata": {},
   "outputs": [
    {
     "name": "stdout",
     "output_type": "stream",
     "text": [
      "Accuracy: 0.8405\n"
     ]
    }
   ],
   "source": [
    "from sklearn.metrics import accuracy_score\n",
    "\n",
    "accuracy = accuracy_score(y_true, y_pred_classes)\n",
    "print(f\"Accuracy: {accuracy:.4f}\")\n"
   ]
  },
  {
   "cell_type": "code",
   "execution_count": 24,
   "id": "b354912a-ec93-4c78-b05f-13f98a3bafdc",
   "metadata": {},
   "outputs": [
    {
     "name": "stdout",
     "output_type": "stream",
     "text": [
      "F1-Score: 0.7772\n"
     ]
    }
   ],
   "source": [
    "from sklearn.metrics import f1_score\n",
    "\n",
    "f1 = f1_score(y_true, y_pred_classes, average='weighted')  # Weighted for imbalanced data\n",
    "print(f\"F1-Score: {f1:.4f}\")"
   ]
  },
  {
   "cell_type": "code",
   "execution_count": 25,
   "id": "61f0e8a0-1820-428b-97a0-b8c9e30fcd33",
   "metadata": {},
   "outputs": [
    {
     "data": {
      "image/png": "[encoded data removed]",
      "text/plain": [
       "<Figure size 800x600 with 2 Axes>"
      ]
     },
     "metadata": {},
     "output_type": "display_data"
    }
   ],
   "source": [
    "from sklearn.metrics import confusion_matrix\n",
    "import matplotlib.pyplot as plt\n",
    "import seaborn as sns\n",
    "\n",
    "conf_matrix = confusion_matrix(\n",
    "    y_true, \n",
    "    y_pred_classes, \n",
    "    labels=range(len(diseases_to_classify))  # Ensures all classes (0, 1, 2) are included\n",
    ")\n",
    "\n",
    "# Visualize the confusion matrix\n",
    "plt.figure(figsize=(8, 6))\n",
    "sns.heatmap(conf_matrix, annot=True, fmt='d', cmap='Blues', xticklabels=diseases_to_classify, yticklabels=diseases_to_classify)\n",
    "plt.xlabel('Predicted Labels')\n",
    "plt.ylabel('True Labels')\n",
    "plt.title('Confusion Matrix')\n",
    "plt.show()"
   ]
  }
 ],
 "metadata": {
  "kernelspec": {
   "display_name": "Python 3 (ipykernel)",
   "language": "python",
   "name": "python3"
  },
  "language_info": {
   "codemirror_mode": {
    "name": "ipython",
    "version": 3
   },
   "file_extension": ".py",
   "mimetype": "text/x-python",
   "name": "python",
   "nbconvert_exporter": "python",
   "pygments_lexer": "ipython3",
   "version": "3.11.6"
  }
 },
 "nbformat": 4,
 "nbformat_minor": 5
}
