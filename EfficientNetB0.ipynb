{
 "cells": [
  {
   "cell_type": "code",
   "execution_count": 23,
   "id": "c81eded4-9352-4ea9-86bb-0439228e0ad5",
   "metadata": {},
   "outputs": [],
   "source": [
    "import pandas as pd\n",
    "import numpy as np\n",
    "from tensorflow.keras.applications import EfficientNetB0\n",
    "from tensorflow.keras.models import Model\n",
    "from tensorflow.keras.utils import Sequence\n",
    "from sklearn.model_selection import train_test_split\n",
    "from tensorflow.keras.utils import to_categorical\n",
    "import tensorflow as tf\n",
    "from tensorflow.keras.preprocessing.image import ImageDataGenerator\n",
    "from tensorflow.keras.layers import Dense, Flatten, GlobalAveragePooling2D"
   ]
  },
  {
   "cell_type": "code",
   "execution_count": 24,
   "id": "953d70b0-3b22-4b11-a738-d796d9277ff6",
   "metadata": {},
   "outputs": [
    {
     "name": "stdout",
     "output_type": "stream",
     "text": [
      "        Image Index          Finding Labels  Follow-up #  Patient ID  \\\n",
      "0  00000001_000.png            Cardiomegaly            0           1   \n",
      "1  00000001_001.png  Cardiomegaly|Emphysema            1           1   \n",
      "2  00000001_002.png   Cardiomegaly|Effusion            2           1   \n",
      "3  00000002_000.png              No Finding            0           2   \n",
      "4  00000003_001.png                  Hernia            0           3   \n",
      "\n",
      "   Patient Age Patient Gender View Position  OriginalImage[Width  Height]  \\\n",
      "0           57              M            PA                 2682     2749   \n",
      "1           58              M            PA                 2894     2729   \n",
      "2           58              M            PA                 2500     2048   \n",
      "3           80              M            PA                 2500     2048   \n",
      "4           74              F            PA                 2500     2048   \n",
      "\n",
      "   OriginalImagePixelSpacing[x     y]  \n",
      "0                        0.143  0.143  \n",
      "1                        0.143  0.143  \n",
      "2                        0.168  0.168  \n",
      "3                        0.171  0.171  \n",
      "4                        0.168  0.168  \n"
     ]
    }
   ],
   "source": [
    "# Load the metadata\n",
    "metadata_path = \"Data_Entry_2017_v2020.csv\"\n",
    "metadata = pd.read_csv(metadata_path).iloc[:10000]\n",
    "\n",
    "# Check the first few rows\n",
    "print(metadata.head())\n",
    "\n",
    "# Define the diseases to classify\n",
    "# diseases_to_classify = [\"Pneumonia\", \"Atelectasis\", \"No_Finding\", \"Infiltration\", \"Effusion\"]\n",
    "diseases_to_classify = [\"Pneumonia\", \"Atelectasis\", \"No Finding\"]\n",
    "\n",
    "# Create a Target column with only 3 classes\n",
    "def map_disease(label):\n",
    "    for i, disease in enumerate(diseases_to_classify):\n",
    "        if disease in label:\n",
    "            return i  # Assign index based on diseases_to_classify\n",
    "    return -1  # Exclude other labels\n",
    "\n",
    "metadata['Target'] = metadata['Finding Labels'].apply(map_disease)\n",
    "\n",
    "# Filter out rows with excluded labels\n",
    "metadata = metadata[metadata['Target'] != -1]\n"
   ]
  },
  {
   "cell_type": "code",
   "execution_count": 25,
   "id": "4a10e224-7fe1-47a9-8b1e-7724cdd239e8",
   "metadata": {},
   "outputs": [],
   "source": [
    "# Split into train, validation, and test sets\n",
    "train_df, temp_df = train_test_split(metadata, test_size=0.2, stratify=metadata['Target'], random_state=42)\n",
    "val_df, test_df = train_test_split(temp_df, test_size=0.5, stratify=temp_df['Target'], random_state=42)\n",
    "\n",
    "# print(f\"Train: {len(train_df)}, Validation: {len(val_df)}, Test: {len(test_df)}\")\n",
    "# print(f\"Train DataFrame size: {train_df.shape}\")\n",
    "# print(f\"Validation DataFrame size: {val_df.shape}\")\n",
    "# print(train_df.head())\n",
    "\n",
    "# Custom Data Generator Class\n",
    "class MyCustomDataset(Sequence):\n",
    "    def __init__(self, dataframe, directory, batch_size, target_size, classes, **kwargs):\n",
    "        super().__init__(**kwargs)  # Call the parent class constructor\n",
    "        self.dataframe = dataframe\n",
    "        self.directory = directory\n",
    "        self.batch_size = batch_size\n",
    "        self.target_size = target_size\n",
    "        self.classes = classes\n",
    "        self.dataframe['Target'] = self.dataframe['Target'].astype(int)\n",
    "\n",
    "    def __len__(self):\n",
    "        # Number of batches per epoch\n",
    "        return int(np.ceil(len(self.dataframe) / self.batch_size))\n",
    "\n",
    "    def __getitem__(self, idx):\n",
    "        # Get batch indices\n",
    "        batch_df = self.dataframe.iloc[idx * self.batch_size:(idx + 1) * self.batch_size]\n",
    "        images = []\n",
    "        targets = []\n",
    "\n",
    "        for _, row in batch_df.iterrows():\n",
    "            image_path = f\"{self.directory}/{row['Image Index']}\"\n",
    "            img = tf.keras.utils.load_img(image_path, target_size=self.target_size)\n",
    "            img_array = tf.keras.utils.img_to_array(img) / 255.0  # Normalize\n",
    "            images.append(img_array)\n",
    "            targets.append(tf.keras.utils.to_categorical(row['Target'], num_classes=len(self.classes)))\n",
    "\n",
    "        return np.array(images), np.array(targets)\n",
    "\n",
    "\n",
    "\n",
    "# Convert Target column to categorical\n",
    "metadata['Target'] = metadata['Target'].astype(int)\n",
    "train_df, temp_df = train_test_split(metadata, test_size=0.2, stratify=metadata['Target'], random_state=42)\n",
    "val_df, test_df = train_test_split(temp_df, test_size=0.5, stratify=temp_df['Target'], random_state=42)\n",
    "\n",
    "train_df['Target'] = train_df['Target'].astype(str)  # Generators require strings\n",
    "val_df['Target'] = val_df['Target'].astype(str)\n",
    "test_df['Target'] = test_df['Target'].astype(str)\n",
    "\n",
    "# Define directories\n",
    "# Create train and validation generators\n",
    "image_dir = \"Images/Images\"\n",
    "batch_size = 32\n",
    "target_size = (224, 224)\n",
    "\n",
    "# Image augmentation and preprocessing\n",
    "datagen = ImageDataGenerator(\n",
    "    rescale=1.0/255.0,\n",
    "    validation_split=0.2\n",
    ")\n",
    "\n",
    "train_generator = MyCustomDataset(\n",
    "    dataframe=train_df,\n",
    "    directory=image_dir,\n",
    "    batch_size=batch_size,\n",
    "    target_size=target_size,\n",
    "    classes=diseases_to_classify\n",
    ")\n",
    "\n",
    "val_generator = MyCustomDataset(\n",
    "    dataframe=val_df,\n",
    "    directory=image_dir,\n",
    "    batch_size=batch_size,\n",
    "    target_size=target_size,\n",
    "    classes=diseases_to_classify\n",
    ")"
   ]
  },
  {
   "cell_type": "code",
   "execution_count": 26,
   "id": "778da7cd-9960-4dde-b780-b35e9fc7e71f",
   "metadata": {},
   "outputs": [
    {
     "name": "stdout",
     "output_type": "stream",
     "text": [
      "Target\n",
      "2    5709\n",
      "1     862\n",
      "0     135\n",
      "Name: count, dtype: int64\n"
     ]
    }
   ],
   "source": [
    "# Check class distribution\n",
    "print(metadata['Target'].value_counts())\n",
    "\n",
    "rare_classes = metadata['Target'].value_counts()[metadata['Target'].value_counts() < 5]\n",
    "# print(f\"Rare classes: {rare_classes}\")\n",
    "metadata = metadata[~metadata['Target'].isin(rare_classes.index)]\n"
   ]
  },
  {
   "cell_type": "code",
   "execution_count": 13,
   "id": "35af9222-be65-4378-9176-a86f4e8de1cc",
   "metadata": {},
   "outputs": [],
   "source": [
    "# Model definition\n",
    "# Load EfficientNetB0\n",
    "base_model = EfficientNetB0(weights='imagenet', include_top=False, input_shape=(224, 224, 3))\n",
    "\n",
    "# Add classification layers\n",
    "x = base_model.output\n",
    "x = tf.keras.layers.GlobalAveragePooling2D()(x)\n",
    "x = tf.keras.layers.Dense(128, activation='relu')(x)\n",
    "predictions = tf.keras.layers.Dense(len(diseases_to_classify), activation='softmax')(x)\n",
    "\n",
    "# Create and compile the model\n",
    "model = tf.keras.Model(inputs=base_model.input, outputs=predictions)\n",
    "model.compile(optimizer='adam', loss='categorical_crossentropy', metrics=['accuracy'])\n",
    "\n"
   ]
  },
  {
   "cell_type": "code",
   "execution_count": 16,
   "id": "be968165-a6b0-48e6-9c83-2fc7bb088adc",
   "metadata": {},
   "outputs": [
    {
     "name": "stdout",
     "output_type": "stream",
     "text": [
      "Epoch 1/10\n",
      "\u001b[1m168/168\u001b[0m \u001b[32m━━━━━━━━━━━━━━━━━━━━\u001b[0m\u001b[37m\u001b[0m \u001b[1m1840s\u001b[0m 11s/step - accuracy: 0.8472 - loss: 0.4748 - val_accuracy: 0.8510 - val_loss: 0.5367\n",
      "Epoch 2/10\n",
      "\u001b[1m168/168\u001b[0m \u001b[32m━━━━━━━━━━━━━━━━━━━━\u001b[0m\u001b[37m\u001b[0m \u001b[1m1771s\u001b[0m 11s/step - accuracy: 0.8487 - loss: 0.4208 - val_accuracy: 0.8510 - val_loss: 0.4857\n",
      "Epoch 3/10\n",
      "\u001b[1m168/168\u001b[0m \u001b[32m━━━━━━━━━━━━━━━━━━━━\u001b[0m\u001b[37m\u001b[0m \u001b[1m1777s\u001b[0m 11s/step - accuracy: 0.8622 - loss: 0.3616 - val_accuracy: 0.7526 - val_loss: 0.7506\n",
      "Epoch 4/10\n",
      "\u001b[1m168/168\u001b[0m \u001b[32m━━━━━━━━━━━━━━━━━━━━\u001b[0m\u001b[37m\u001b[0m \u001b[1m1739s\u001b[0m 10s/step - accuracy: 0.8621 - loss: 0.3518 - val_accuracy: 0.8510 - val_loss: 0.6568\n",
      "Epoch 5/10\n",
      "\u001b[1m168/168\u001b[0m \u001b[32m━━━━━━━━━━━━━━━━━━━━\u001b[0m\u001b[37m\u001b[0m \u001b[1m1743s\u001b[0m 10s/step - accuracy: 0.8943 - loss: 0.2787 - val_accuracy: 0.8510 - val_loss: 0.5441\n",
      "Epoch 6/10\n",
      "\u001b[1m168/168\u001b[0m \u001b[32m━━━━━━━━━━━━━━━━━━━━\u001b[0m\u001b[37m\u001b[0m \u001b[1m1725s\u001b[0m 10s/step - accuracy: 0.9155 - loss: 0.2262 - val_accuracy: 0.8510 - val_loss: 0.5767\n",
      "Epoch 7/10\n",
      "\u001b[1m168/168\u001b[0m \u001b[32m━━━━━━━━━━━━━━━━━━━━\u001b[0m\u001b[37m\u001b[0m \u001b[1m1718s\u001b[0m 10s/step - accuracy: 0.9288 - loss: 0.1887 - val_accuracy: 0.2012 - val_loss: 0.8889\n",
      "Epoch 8/10\n",
      "\u001b[1m168/168\u001b[0m \u001b[32m━━━━━━━━━━━━━━━━━━━━\u001b[0m\u001b[37m\u001b[0m \u001b[1m1727s\u001b[0m 10s/step - accuracy: 0.9537 - loss: 0.1303 - val_accuracy: 0.0224 - val_loss: 2.3692\n",
      "Epoch 9/10\n",
      "\u001b[1m168/168\u001b[0m \u001b[32m━━━━━━━━━━━━━━━━━━━━\u001b[0m\u001b[37m\u001b[0m \u001b[1m1735s\u001b[0m 10s/step - accuracy: 0.9639 - loss: 0.1015 - val_accuracy: 0.3785 - val_loss: 0.8121\n",
      "Epoch 10/10\n",
      "\u001b[1m168/168\u001b[0m \u001b[32m━━━━━━━━━━━━━━━━━━━━\u001b[0m\u001b[37m\u001b[0m \u001b[1m1688s\u001b[0m 10s/step - accuracy: 0.9728 - loss: 0.0720 - val_accuracy: 0.1326 - val_loss: 1.2883\n"
     ]
    }
   ],
   "source": [
    "# Train the model\n",
    "history = model.fit(\n",
    "    train_generator,\n",
    "    validation_data=val_generator,\n",
    "    epochs=10,\n",
    "    steps_per_epoch=len(train_generator),\n",
    "    validation_steps=len(val_generator)\n",
    ")"
   ]
  },
  {
   "cell_type": "code",
   "execution_count": 17,
   "id": "9e7f0758-8964-4709-99a3-3e7cc6136947",
   "metadata": {},
   "outputs": [],
   "source": [
    "test_generator = MyCustomDataset(\n",
    "    dataframe=test_df,\n",
    "    directory=image_dir,\n",
    "    batch_size=32,\n",
    "    target_size=(224, 224),\n",
    "    classes=diseases_to_classify\n",
    ")\n"
   ]
  },
  {
   "cell_type": "code",
   "execution_count": 18,
   "id": "1c9e87dd-6087-4a0f-ad6d-f972784c1708",
   "metadata": {},
   "outputs": [
    {
     "name": "stdout",
     "output_type": "stream",
     "text": [
      "\u001b[1m21/21\u001b[0m \u001b[32m━━━━━━━━━━━━━━━━━━━━\u001b[0m\u001b[37m\u001b[0m \u001b[1m61s\u001b[0m 3s/step - accuracy: 0.1344 - loss: 1.2793\n",
      "Test Loss: 1.2888\n",
      "Test Accuracy: 0.1297\n"
     ]
    }
   ],
   "source": [
    "# Evaluate the model on the test set\n",
    "test_loss, test_accuracy = model.evaluate(test_generator)\n",
    "print(f\"Test Loss: {test_loss:.4f}\")\n",
    "print(f\"Test Accuracy: {test_accuracy:.4f}\")"
   ]
  },
  {
   "cell_type": "code",
   "execution_count": 19,
   "id": "c118d649-4d79-4ad0-bd2b-43e0759f4b08",
   "metadata": {},
   "outputs": [
    {
     "name": "stdout",
     "output_type": "stream",
     "text": [
      "\u001b[1m21/21\u001b[0m \u001b[32m━━━━━━━━━━━━━━━━━━━━\u001b[0m\u001b[37m\u001b[0m \u001b[1m74s\u001b[0m 3s/step\n"
     ]
    }
   ],
   "source": [
    "import numpy as np\n",
    "\n",
    "y_pred_probs = model.predict(test_generator)  # Predicted probabilities\n",
    "y_pred_classes = np.argmax(y_pred_probs, axis=1)  # Predicted class indices\n",
    "\n",
    "# True labels\n",
    "y_true = test_df['Target'].astype(int).values  # Extract true labels from test_df\n"
   ]
  },
  {
   "cell_type": "code",
   "execution_count": 20,
   "id": "409d47c6-9000-409f-bac5-f15cc17cb1f3",
   "metadata": {},
   "outputs": [
    {
     "name": "stdout",
     "output_type": "stream",
     "text": [
      "Accuracy: 0.1297\n"
     ]
    }
   ],
   "source": [
    "from sklearn.metrics import accuracy_score\n",
    "\n",
    "accuracy = accuracy_score(y_true, y_pred_classes)\n",
    "print(f\"Accuracy: {accuracy:.4f}\")\n"
   ]
  },
  {
   "cell_type": "code",
   "execution_count": 21,
   "id": "45fbc307-cc4a-44b4-83df-d27142dc5669",
   "metadata": {},
   "outputs": [
    {
     "name": "stdout",
     "output_type": "stream",
     "text": [
      "F1-Score: 0.0321\n"
     ]
    }
   ],
   "source": [
    "from sklearn.metrics import f1_score\n",
    "\n",
    "f1 = f1_score(y_true, y_pred_classes, average='weighted')  # Weighted for imbalanced data\n",
    "print(f\"F1-Score: {f1:.4f}\")\n"
   ]
  },
  {
   "cell_type": "code",
   "execution_count": 22,
   "id": "dc4c0414-90bb-429d-af40-31fc02021252",
   "metadata": {},
   "outputs": [
    {
     "data": {
      "image/png": "[encoded data removed]",
      "text/plain": [
       "<Figure size 800x600 with 2 Axes>"
      ]
     },
     "metadata": {},
     "output_type": "display_data"
    }
   ],
   "source": [
    "from sklearn.metrics import confusion_matrix\n",
    "import matplotlib.pyplot as plt\n",
    "import seaborn as sns\n",
    "\n",
    "conf_matrix = confusion_matrix(y_true, y_pred_classes)\n",
    "\n",
    "# Visualize the confusion matrix\n",
    "plt.figure(figsize=(8, 6))\n",
    "sns.heatmap(conf_matrix, annot=True, fmt='d', cmap='Blues', xticklabels=diseases_to_classify, yticklabels=diseases_to_classify)\n",
    "plt.xlabel('Predicted Labels')\n",
    "plt.ylabel('True Labels')\n",
    "plt.title('Confusion Matrix')\n",
    "plt.show()\n"
   ]
  },
  {
   "cell_type": "code",
   "execution_count": null,
   "id": "d5da196d-0120-4a22-8f27-2709d4eff025",
   "metadata": {},
   "outputs": [],
   "source": []
  },
  {
   "cell_type": "code",
   "execution_count": null,
   "id": "3c46f7a1-b1c5-4097-8baa-acf7d520e394",
   "metadata": {},
   "outputs": [],
   "source": []
  },
  {
   "cell_type": "code",
   "execution_count": 38,
   "id": "7bb1215e-0cad-454c-94d2-f48ab527b465",
   "metadata": {},
   "outputs": [
    {
     "name": "stdout",
     "output_type": "stream",
     "text": [
      "Epoch 1/10\n",
      "\u001b[1m146/146\u001b[0m \u001b[32m━━━━━━━━━━━━━━━━━━━━\u001b[0m\u001b[37m\u001b[0m \u001b[1m1419s\u001b[0m 9s/step - accuracy: 0.4051 - loss: 1.3938 - val_accuracy: 0.4031 - val_loss: 1.4086\n",
      "Epoch 2/10\n",
      "\u001b[1m146/146\u001b[0m \u001b[32m━━━━━━━━━━━━━━━━━━━━\u001b[0m\u001b[37m\u001b[0m \u001b[1m1203s\u001b[0m 8s/step - accuracy: 0.4983 - loss: 1.2411 - val_accuracy: 0.3002 - val_loss: 2.2460\n",
      "Epoch 3/10\n",
      "\u001b[1m146/146\u001b[0m \u001b[32m━━━━━━━━━━━━━━━━━━━━\u001b[0m\u001b[37m\u001b[0m \u001b[1m1222s\u001b[0m 8s/step - accuracy: 0.5225 - loss: 1.1683 - val_accuracy: 0.4031 - val_loss: 1.8129\n",
      "Epoch 4/10\n",
      "\u001b[1m146/146\u001b[0m \u001b[32m━━━━━━━━━━━━━━━━━━━━\u001b[0m\u001b[37m\u001b[0m \u001b[1m1200s\u001b[0m 8s/step - accuracy: 0.5891 - loss: 1.0414 - val_accuracy: 0.4031 - val_loss: 5.8895\n",
      "Epoch 5/10\n",
      "\u001b[1m146/146\u001b[0m \u001b[32m━━━━━━━━━━━━━━━━━━━━\u001b[0m\u001b[37m\u001b[0m \u001b[1m1236s\u001b[0m 8s/step - accuracy: 0.6308 - loss: 0.9336 - val_accuracy: 0.3979 - val_loss: 3.9267\n",
      "Epoch 6/10\n",
      "\u001b[1m146/146\u001b[0m \u001b[32m━━━━━━━━━━━━━━━━━━━━\u001b[0m\u001b[37m\u001b[0m \u001b[1m1278s\u001b[0m 9s/step - accuracy: 0.7164 - loss: 0.7440 - val_accuracy: 0.3070 - val_loss: 113.6846\n",
      "Epoch 7/10\n",
      "\u001b[1m146/146\u001b[0m \u001b[32m━━━━━━━━━━━━━━━━━━━━\u001b[0m\u001b[37m\u001b[0m \u001b[1m1238s\u001b[0m 8s/step - accuracy: 0.7807 - loss: 0.6020 - val_accuracy: 0.1218 - val_loss: 2.4717\n",
      "Epoch 8/10\n",
      "\u001b[1m146/146\u001b[0m \u001b[32m━━━━━━━━━━━━━━━━━━━━\u001b[0m\u001b[37m\u001b[0m \u001b[1m1219s\u001b[0m 8s/step - accuracy: 0.8460 - loss: 0.4223 - val_accuracy: 0.0412 - val_loss: 3.6622\n",
      "Epoch 9/10\n",
      "\u001b[1m146/146\u001b[0m \u001b[32m━━━━━━━━━━━━━━━━━━━━\u001b[0m\u001b[37m\u001b[0m \u001b[1m1265s\u001b[0m 9s/step - accuracy: 0.8949 - loss: 0.2955 - val_accuracy: 0.1063 - val_loss: 2.7309\n",
      "Epoch 10/10\n",
      "\u001b[1m146/146\u001b[0m \u001b[32m━━━━━━━━━━━━━━━━━━━━\u001b[0m\u001b[37m\u001b[0m \u001b[1m1230s\u001b[0m 8s/step - accuracy: 0.9348 - loss: 0.1997 - val_accuracy: 0.0395 - val_loss: 4.1993\n"
     ]
    }
   ],
   "source": [
    "diseases_to_classify = [\"Pneumonia\", \"Atelectasis\", \"Pleural_Thickening\", \"Infiltration\", \"Effusion\"]\n",
    "\n",
    "# Train the model\n",
    "history = model.fit(\n",
    "    train_generator,\n",
    "    validation_data=val_generator,\n",
    "    epochs=10,\n",
    "    steps_per_epoch=len(train_generator),\n",
    "    validation_steps=len(val_generator)\n",
    ")"
   ]
  },
  {
   "cell_type": "code",
   "execution_count": null,
   "id": "44675e64-ee3f-41e6-ba38-3d0a990e32ed",
   "metadata": {},
   "outputs": [],
   "source": []
  },
  {
   "cell_type": "code",
   "execution_count": null,
   "id": "0ea47bd2-9ffa-4eea-b414-e4dea5a6b1a6",
   "metadata": {},
   "outputs": [],
   "source": []
  }
 ],
 "metadata": {
  "kernelspec": {
   "display_name": "Python 3 (ipykernel)",
   "language": "python",
   "name": "python3"
  },
  "language_info": {
   "codemirror_mode": {
    "name": "ipython",
    "version": 3
   },
   "file_extension": ".py",
   "mimetype": "text/x-python",
   "name": "python",
   "nbconvert_exporter": "python",
   "pygments_lexer": "ipython3",
   "version": "3.11.6"
  }
 },
 "nbformat": 4,
 "nbformat_minor": 5
}
